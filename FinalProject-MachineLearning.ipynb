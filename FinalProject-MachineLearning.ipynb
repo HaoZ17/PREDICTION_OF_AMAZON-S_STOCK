{
 "cells": [
  {
   "cell_type": "markdown",
   "metadata": {},
   "source": [
    "Machine Learning"
   ]
  },
  {
   "cell_type": "code",
   "execution_count": 1,
   "metadata": {},
   "outputs": [],
   "source": [
    "#Install the dependencies\n",
    "import quandl\n",
    "quandl.ApiConfig.api_key = \"eYfhtNa8prf9SAwCHsGR\"\n",
    "import numpy as np \n",
    "from sklearn.linear_model import LinearRegression\n",
    "from sklearn.svm import SVR\n",
    "from sklearn.model_selection import train_test_split\n",
    "from sklearn.metrics import mean_squared_error\n",
    "import matplotlib.pyplot as plt"
   ]
  },
  {
   "cell_type": "markdown",
   "metadata": {},
   "source": [
    "Get the stock data using API"
   ]
  },
  {
   "cell_type": "code",
   "execution_count": 2,
   "metadata": {},
   "outputs": [],
   "source": [
    "df = quandl.get(\"WIKI/AMZN\")\n",
    "#quandl api: eYfhtNa8prf9SAwCHsGR\n"
   ]
  },
  {
   "cell_type": "code",
   "execution_count": 3,
   "metadata": {},
   "outputs": [
    {
     "name": "stdout",
     "output_type": "stream",
     "text": [
      "Index(['Open', 'High', 'Low', 'Close', 'Volume', 'Ex-Dividend', 'Split Ratio',\n",
      "       'Adj. Open', 'Adj. High', 'Adj. Low', 'Adj. Close', 'Adj. Volume'],\n",
      "      dtype='object')\n"
     ]
    },
    {
     "data": {
      "text/html": [
       "<div>\n",
       "<style scoped>\n",
       "    .dataframe tbody tr th:only-of-type {\n",
       "        vertical-align: middle;\n",
       "    }\n",
       "\n",
       "    .dataframe tbody tr th {\n",
       "        vertical-align: top;\n",
       "    }\n",
       "\n",
       "    .dataframe thead th {\n",
       "        text-align: right;\n",
       "    }\n",
       "</style>\n",
       "<table border=\"1\" class=\"dataframe\">\n",
       "  <thead>\n",
       "    <tr style=\"text-align: right;\">\n",
       "      <th></th>\n",
       "      <th>Open</th>\n",
       "      <th>High</th>\n",
       "      <th>Low</th>\n",
       "      <th>Close</th>\n",
       "      <th>Volume</th>\n",
       "      <th>Ex-Dividend</th>\n",
       "      <th>Split Ratio</th>\n",
       "      <th>Adj. Open</th>\n",
       "      <th>Adj. High</th>\n",
       "      <th>Adj. Low</th>\n",
       "      <th>Adj. Close</th>\n",
       "      <th>Adj. Volume</th>\n",
       "    </tr>\n",
       "    <tr>\n",
       "      <th>Date</th>\n",
       "      <th></th>\n",
       "      <th></th>\n",
       "      <th></th>\n",
       "      <th></th>\n",
       "      <th></th>\n",
       "      <th></th>\n",
       "      <th></th>\n",
       "      <th></th>\n",
       "      <th></th>\n",
       "      <th></th>\n",
       "      <th></th>\n",
       "      <th></th>\n",
       "    </tr>\n",
       "  </thead>\n",
       "  <tbody>\n",
       "    <tr>\n",
       "      <th>1997-05-16</th>\n",
       "      <td>22.38</td>\n",
       "      <td>23.75</td>\n",
       "      <td>20.50</td>\n",
       "      <td>20.75</td>\n",
       "      <td>1225000.0</td>\n",
       "      <td>0.0</td>\n",
       "      <td>1.0</td>\n",
       "      <td>1.865000</td>\n",
       "      <td>1.979167</td>\n",
       "      <td>1.708333</td>\n",
       "      <td>1.729167</td>\n",
       "      <td>14700000.0</td>\n",
       "    </tr>\n",
       "    <tr>\n",
       "      <th>1997-05-19</th>\n",
       "      <td>20.50</td>\n",
       "      <td>21.25</td>\n",
       "      <td>19.50</td>\n",
       "      <td>20.50</td>\n",
       "      <td>508900.0</td>\n",
       "      <td>0.0</td>\n",
       "      <td>1.0</td>\n",
       "      <td>1.708333</td>\n",
       "      <td>1.770833</td>\n",
       "      <td>1.625000</td>\n",
       "      <td>1.708333</td>\n",
       "      <td>6106800.0</td>\n",
       "    </tr>\n",
       "    <tr>\n",
       "      <th>1997-05-20</th>\n",
       "      <td>20.75</td>\n",
       "      <td>21.00</td>\n",
       "      <td>19.63</td>\n",
       "      <td>19.63</td>\n",
       "      <td>455600.0</td>\n",
       "      <td>0.0</td>\n",
       "      <td>1.0</td>\n",
       "      <td>1.729167</td>\n",
       "      <td>1.750000</td>\n",
       "      <td>1.635833</td>\n",
       "      <td>1.635833</td>\n",
       "      <td>5467200.0</td>\n",
       "    </tr>\n",
       "    <tr>\n",
       "      <th>1997-05-21</th>\n",
       "      <td>19.25</td>\n",
       "      <td>19.75</td>\n",
       "      <td>16.50</td>\n",
       "      <td>17.13</td>\n",
       "      <td>1571100.0</td>\n",
       "      <td>0.0</td>\n",
       "      <td>1.0</td>\n",
       "      <td>1.604167</td>\n",
       "      <td>1.645833</td>\n",
       "      <td>1.375000</td>\n",
       "      <td>1.427500</td>\n",
       "      <td>18853200.0</td>\n",
       "    </tr>\n",
       "    <tr>\n",
       "      <th>1997-05-22</th>\n",
       "      <td>17.25</td>\n",
       "      <td>17.38</td>\n",
       "      <td>15.75</td>\n",
       "      <td>16.75</td>\n",
       "      <td>981400.0</td>\n",
       "      <td>0.0</td>\n",
       "      <td>1.0</td>\n",
       "      <td>1.437500</td>\n",
       "      <td>1.448333</td>\n",
       "      <td>1.312500</td>\n",
       "      <td>1.395833</td>\n",
       "      <td>11776800.0</td>\n",
       "    </tr>\n",
       "  </tbody>\n",
       "</table>\n",
       "</div>"
      ],
      "text/plain": [
       "             Open   High    Low  Close     Volume  Ex-Dividend  Split Ratio  \\\n",
       "Date                                                                          \n",
       "1997-05-16  22.38  23.75  20.50  20.75  1225000.0          0.0          1.0   \n",
       "1997-05-19  20.50  21.25  19.50  20.50   508900.0          0.0          1.0   \n",
       "1997-05-20  20.75  21.00  19.63  19.63   455600.0          0.0          1.0   \n",
       "1997-05-21  19.25  19.75  16.50  17.13  1571100.0          0.0          1.0   \n",
       "1997-05-22  17.25  17.38  15.75  16.75   981400.0          0.0          1.0   \n",
       "\n",
       "            Adj. Open  Adj. High  Adj. Low  Adj. Close  Adj. Volume  \n",
       "Date                                                                 \n",
       "1997-05-16   1.865000   1.979167  1.708333    1.729167   14700000.0  \n",
       "1997-05-19   1.708333   1.770833  1.625000    1.708333    6106800.0  \n",
       "1997-05-20   1.729167   1.750000  1.635833    1.635833    5467200.0  \n",
       "1997-05-21   1.604167   1.645833  1.375000    1.427500   18853200.0  \n",
       "1997-05-22   1.437500   1.448333  1.312500    1.395833   11776800.0  "
      ]
     },
     "execution_count": 3,
     "metadata": {},
     "output_type": "execute_result"
    }
   ],
   "source": [
    "# Take a look at the data\n",
    "print(df.columns)\n",
    "df.head()"
   ]
  },
  {
   "cell_type": "code",
   "execution_count": 4,
   "metadata": {},
   "outputs": [
    {
     "data": {
      "text/html": [
       "<div>\n",
       "<style scoped>\n",
       "    .dataframe tbody tr th:only-of-type {\n",
       "        vertical-align: middle;\n",
       "    }\n",
       "\n",
       "    .dataframe tbody tr th {\n",
       "        vertical-align: top;\n",
       "    }\n",
       "\n",
       "    .dataframe thead th {\n",
       "        text-align: right;\n",
       "    }\n",
       "</style>\n",
       "<table border=\"1\" class=\"dataframe\">\n",
       "  <thead>\n",
       "    <tr style=\"text-align: right;\">\n",
       "      <th></th>\n",
       "      <th>Open</th>\n",
       "      <th>High</th>\n",
       "      <th>Low</th>\n",
       "      <th>Close</th>\n",
       "      <th>Volume</th>\n",
       "      <th>Ex-Dividend</th>\n",
       "      <th>Split Ratio</th>\n",
       "      <th>Adj. Open</th>\n",
       "      <th>Adj. High</th>\n",
       "      <th>Adj. Low</th>\n",
       "      <th>Adj. Close</th>\n",
       "      <th>Adj. Volume</th>\n",
       "    </tr>\n",
       "    <tr>\n",
       "      <th>Date</th>\n",
       "      <th></th>\n",
       "      <th></th>\n",
       "      <th></th>\n",
       "      <th></th>\n",
       "      <th></th>\n",
       "      <th></th>\n",
       "      <th></th>\n",
       "      <th></th>\n",
       "      <th></th>\n",
       "      <th></th>\n",
       "      <th></th>\n",
       "      <th></th>\n",
       "    </tr>\n",
       "  </thead>\n",
       "  <tbody>\n",
       "    <tr>\n",
       "      <th>2012-01-03</th>\n",
       "      <td>175.89</td>\n",
       "      <td>179.475</td>\n",
       "      <td>175.550</td>\n",
       "      <td>179.03</td>\n",
       "      <td>5110800.0</td>\n",
       "      <td>0.0</td>\n",
       "      <td>1.0</td>\n",
       "      <td>175.89</td>\n",
       "      <td>179.475</td>\n",
       "      <td>175.550</td>\n",
       "      <td>179.03</td>\n",
       "      <td>5110800.0</td>\n",
       "    </tr>\n",
       "    <tr>\n",
       "      <th>2012-01-04</th>\n",
       "      <td>179.21</td>\n",
       "      <td>180.500</td>\n",
       "      <td>176.065</td>\n",
       "      <td>177.51</td>\n",
       "      <td>4205200.0</td>\n",
       "      <td>0.0</td>\n",
       "      <td>1.0</td>\n",
       "      <td>179.21</td>\n",
       "      <td>180.500</td>\n",
       "      <td>176.065</td>\n",
       "      <td>177.51</td>\n",
       "      <td>4205200.0</td>\n",
       "    </tr>\n",
       "    <tr>\n",
       "      <th>2012-01-05</th>\n",
       "      <td>175.94</td>\n",
       "      <td>178.250</td>\n",
       "      <td>174.050</td>\n",
       "      <td>177.61</td>\n",
       "      <td>3809100.0</td>\n",
       "      <td>0.0</td>\n",
       "      <td>1.0</td>\n",
       "      <td>175.94</td>\n",
       "      <td>178.250</td>\n",
       "      <td>174.050</td>\n",
       "      <td>177.61</td>\n",
       "      <td>3809100.0</td>\n",
       "    </tr>\n",
       "    <tr>\n",
       "      <th>2012-01-06</th>\n",
       "      <td>178.07</td>\n",
       "      <td>184.650</td>\n",
       "      <td>177.500</td>\n",
       "      <td>182.61</td>\n",
       "      <td>7008400.0</td>\n",
       "      <td>0.0</td>\n",
       "      <td>1.0</td>\n",
       "      <td>178.07</td>\n",
       "      <td>184.650</td>\n",
       "      <td>177.500</td>\n",
       "      <td>182.61</td>\n",
       "      <td>7008400.0</td>\n",
       "    </tr>\n",
       "    <tr>\n",
       "      <th>2012-01-09</th>\n",
       "      <td>182.76</td>\n",
       "      <td>184.370</td>\n",
       "      <td>177.000</td>\n",
       "      <td>178.56</td>\n",
       "      <td>5056900.0</td>\n",
       "      <td>0.0</td>\n",
       "      <td>1.0</td>\n",
       "      <td>182.76</td>\n",
       "      <td>184.370</td>\n",
       "      <td>177.000</td>\n",
       "      <td>178.56</td>\n",
       "      <td>5056900.0</td>\n",
       "    </tr>\n",
       "    <tr>\n",
       "      <th>...</th>\n",
       "      <td>...</td>\n",
       "      <td>...</td>\n",
       "      <td>...</td>\n",
       "      <td>...</td>\n",
       "      <td>...</td>\n",
       "      <td>...</td>\n",
       "      <td>...</td>\n",
       "      <td>...</td>\n",
       "      <td>...</td>\n",
       "      <td>...</td>\n",
       "      <td>...</td>\n",
       "      <td>...</td>\n",
       "    </tr>\n",
       "    <tr>\n",
       "      <th>2018-03-21</th>\n",
       "      <td>1586.45</td>\n",
       "      <td>1590.000</td>\n",
       "      <td>1563.170</td>\n",
       "      <td>1581.86</td>\n",
       "      <td>4667291.0</td>\n",
       "      <td>0.0</td>\n",
       "      <td>1.0</td>\n",
       "      <td>1586.45</td>\n",
       "      <td>1590.000</td>\n",
       "      <td>1563.170</td>\n",
       "      <td>1581.86</td>\n",
       "      <td>4667291.0</td>\n",
       "    </tr>\n",
       "    <tr>\n",
       "      <th>2018-03-22</th>\n",
       "      <td>1565.47</td>\n",
       "      <td>1573.850</td>\n",
       "      <td>1542.400</td>\n",
       "      <td>1544.10</td>\n",
       "      <td>6177737.0</td>\n",
       "      <td>0.0</td>\n",
       "      <td>1.0</td>\n",
       "      <td>1565.47</td>\n",
       "      <td>1573.850</td>\n",
       "      <td>1542.400</td>\n",
       "      <td>1544.10</td>\n",
       "      <td>6177737.0</td>\n",
       "    </tr>\n",
       "    <tr>\n",
       "      <th>2018-03-23</th>\n",
       "      <td>1539.01</td>\n",
       "      <td>1549.020</td>\n",
       "      <td>1495.360</td>\n",
       "      <td>1495.56</td>\n",
       "      <td>7843966.0</td>\n",
       "      <td>0.0</td>\n",
       "      <td>1.0</td>\n",
       "      <td>1539.01</td>\n",
       "      <td>1549.020</td>\n",
       "      <td>1495.360</td>\n",
       "      <td>1495.56</td>\n",
       "      <td>7843966.0</td>\n",
       "    </tr>\n",
       "    <tr>\n",
       "      <th>2018-03-26</th>\n",
       "      <td>1530.00</td>\n",
       "      <td>1556.990</td>\n",
       "      <td>1499.250</td>\n",
       "      <td>1555.86</td>\n",
       "      <td>5547618.0</td>\n",
       "      <td>0.0</td>\n",
       "      <td>1.0</td>\n",
       "      <td>1530.00</td>\n",
       "      <td>1556.990</td>\n",
       "      <td>1499.250</td>\n",
       "      <td>1555.86</td>\n",
       "      <td>5547618.0</td>\n",
       "    </tr>\n",
       "    <tr>\n",
       "      <th>2018-03-27</th>\n",
       "      <td>1572.40</td>\n",
       "      <td>1575.960</td>\n",
       "      <td>1482.320</td>\n",
       "      <td>1497.05</td>\n",
       "      <td>6793279.0</td>\n",
       "      <td>0.0</td>\n",
       "      <td>1.0</td>\n",
       "      <td>1572.40</td>\n",
       "      <td>1575.960</td>\n",
       "      <td>1482.320</td>\n",
       "      <td>1497.05</td>\n",
       "      <td>6793279.0</td>\n",
       "    </tr>\n",
       "  </tbody>\n",
       "</table>\n",
       "<p>1566 rows × 12 columns</p>\n",
       "</div>"
      ],
      "text/plain": [
       "               Open      High       Low    Close     Volume  Ex-Dividend  \\\n",
       "Date                                                                       \n",
       "2012-01-03   175.89   179.475   175.550   179.03  5110800.0          0.0   \n",
       "2012-01-04   179.21   180.500   176.065   177.51  4205200.0          0.0   \n",
       "2012-01-05   175.94   178.250   174.050   177.61  3809100.0          0.0   \n",
       "2012-01-06   178.07   184.650   177.500   182.61  7008400.0          0.0   \n",
       "2012-01-09   182.76   184.370   177.000   178.56  5056900.0          0.0   \n",
       "...             ...       ...       ...      ...        ...          ...   \n",
       "2018-03-21  1586.45  1590.000  1563.170  1581.86  4667291.0          0.0   \n",
       "2018-03-22  1565.47  1573.850  1542.400  1544.10  6177737.0          0.0   \n",
       "2018-03-23  1539.01  1549.020  1495.360  1495.56  7843966.0          0.0   \n",
       "2018-03-26  1530.00  1556.990  1499.250  1555.86  5547618.0          0.0   \n",
       "2018-03-27  1572.40  1575.960  1482.320  1497.05  6793279.0          0.0   \n",
       "\n",
       "            Split Ratio  Adj. Open  Adj. High  Adj. Low  Adj. Close  \\\n",
       "Date                                                                  \n",
       "2012-01-03          1.0     175.89    179.475   175.550      179.03   \n",
       "2012-01-04          1.0     179.21    180.500   176.065      177.51   \n",
       "2012-01-05          1.0     175.94    178.250   174.050      177.61   \n",
       "2012-01-06          1.0     178.07    184.650   177.500      182.61   \n",
       "2012-01-09          1.0     182.76    184.370   177.000      178.56   \n",
       "...                 ...        ...        ...       ...         ...   \n",
       "2018-03-21          1.0    1586.45   1590.000  1563.170     1581.86   \n",
       "2018-03-22          1.0    1565.47   1573.850  1542.400     1544.10   \n",
       "2018-03-23          1.0    1539.01   1549.020  1495.360     1495.56   \n",
       "2018-03-26          1.0    1530.00   1556.990  1499.250     1555.86   \n",
       "2018-03-27          1.0    1572.40   1575.960  1482.320     1497.05   \n",
       "\n",
       "            Adj. Volume  \n",
       "Date                     \n",
       "2012-01-03    5110800.0  \n",
       "2012-01-04    4205200.0  \n",
       "2012-01-05    3809100.0  \n",
       "2012-01-06    7008400.0  \n",
       "2012-01-09    5056900.0  \n",
       "...                 ...  \n",
       "2018-03-21    4667291.0  \n",
       "2018-03-22    6177737.0  \n",
       "2018-03-23    7843966.0  \n",
       "2018-03-26    5547618.0  \n",
       "2018-03-27    6793279.0  \n",
       "\n",
       "[1566 rows x 12 columns]"
      ]
     },
     "execution_count": 4,
     "metadata": {},
     "output_type": "execute_result"
    }
   ],
   "source": [
    "df=df.loc['2012-01-01':'2019-01-01']\n",
    "df"
   ]
  },
  {
   "cell_type": "code",
   "execution_count": 5,
   "metadata": {},
   "outputs": [
    {
     "data": {
      "text/html": [
       "<div>\n",
       "<style scoped>\n",
       "    .dataframe tbody tr th:only-of-type {\n",
       "        vertical-align: middle;\n",
       "    }\n",
       "\n",
       "    .dataframe tbody tr th {\n",
       "        vertical-align: top;\n",
       "    }\n",
       "\n",
       "    .dataframe thead th {\n",
       "        text-align: right;\n",
       "    }\n",
       "</style>\n",
       "<table border=\"1\" class=\"dataframe\">\n",
       "  <thead>\n",
       "    <tr style=\"text-align: right;\">\n",
       "      <th></th>\n",
       "      <th>Open</th>\n",
       "      <th>High</th>\n",
       "      <th>Low</th>\n",
       "      <th>Close</th>\n",
       "      <th>Volume</th>\n",
       "      <th>Ex-Dividend</th>\n",
       "      <th>Split Ratio</th>\n",
       "      <th>Adj. Open</th>\n",
       "      <th>Adj. High</th>\n",
       "      <th>Adj. Low</th>\n",
       "      <th>Adj. Close</th>\n",
       "      <th>Adj. Volume</th>\n",
       "    </tr>\n",
       "  </thead>\n",
       "  <tbody>\n",
       "    <tr>\n",
       "      <th>count</th>\n",
       "      <td>1566.000000</td>\n",
       "      <td>1566.000000</td>\n",
       "      <td>1566.000000</td>\n",
       "      <td>1566.000000</td>\n",
       "      <td>1.566000e+03</td>\n",
       "      <td>1566.0</td>\n",
       "      <td>1566.0</td>\n",
       "      <td>1566.000000</td>\n",
       "      <td>1566.000000</td>\n",
       "      <td>1566.000000</td>\n",
       "      <td>1566.000000</td>\n",
       "      <td>1.566000e+03</td>\n",
       "    </tr>\n",
       "    <tr>\n",
       "      <th>mean</th>\n",
       "      <td>533.855069</td>\n",
       "      <td>538.776586</td>\n",
       "      <td>528.322012</td>\n",
       "      <td>533.848274</td>\n",
       "      <td>3.841182e+06</td>\n",
       "      <td>0.0</td>\n",
       "      <td>1.0</td>\n",
       "      <td>533.855069</td>\n",
       "      <td>538.776586</td>\n",
       "      <td>528.322012</td>\n",
       "      <td>533.848274</td>\n",
       "      <td>3.841182e+06</td>\n",
       "    </tr>\n",
       "    <tr>\n",
       "      <th>std</th>\n",
       "      <td>320.251234</td>\n",
       "      <td>322.613529</td>\n",
       "      <td>317.058474</td>\n",
       "      <td>320.050743</td>\n",
       "      <td>2.232362e+06</td>\n",
       "      <td>0.0</td>\n",
       "      <td>0.0</td>\n",
       "      <td>320.251234</td>\n",
       "      <td>322.613529</td>\n",
       "      <td>317.058474</td>\n",
       "      <td>320.050743</td>\n",
       "      <td>2.232362e+06</td>\n",
       "    </tr>\n",
       "    <tr>\n",
       "      <th>min</th>\n",
       "      <td>173.810000</td>\n",
       "      <td>178.250000</td>\n",
       "      <td>172.000000</td>\n",
       "      <td>175.930000</td>\n",
       "      <td>9.844000e+05</td>\n",
       "      <td>0.0</td>\n",
       "      <td>1.0</td>\n",
       "      <td>173.810000</td>\n",
       "      <td>178.250000</td>\n",
       "      <td>172.000000</td>\n",
       "      <td>175.930000</td>\n",
       "      <td>9.844000e+05</td>\n",
       "    </tr>\n",
       "    <tr>\n",
       "      <th>25%</th>\n",
       "      <td>286.995000</td>\n",
       "      <td>291.417500</td>\n",
       "      <td>285.342675</td>\n",
       "      <td>288.960000</td>\n",
       "      <td>2.555776e+06</td>\n",
       "      <td>0.0</td>\n",
       "      <td>1.0</td>\n",
       "      <td>286.995000</td>\n",
       "      <td>291.417500</td>\n",
       "      <td>285.342675</td>\n",
       "      <td>288.960000</td>\n",
       "      <td>2.555776e+06</td>\n",
       "    </tr>\n",
       "    <tr>\n",
       "      <th>50%</th>\n",
       "      <td>384.035000</td>\n",
       "      <td>387.830000</td>\n",
       "      <td>381.546200</td>\n",
       "      <td>384.635000</td>\n",
       "      <td>3.264957e+06</td>\n",
       "      <td>0.0</td>\n",
       "      <td>1.0</td>\n",
       "      <td>384.035000</td>\n",
       "      <td>387.830000</td>\n",
       "      <td>381.546200</td>\n",
       "      <td>384.635000</td>\n",
       "      <td>3.264957e+06</td>\n",
       "    </tr>\n",
       "    <tr>\n",
       "      <th>75%</th>\n",
       "      <td>762.642500</td>\n",
       "      <td>766.792500</td>\n",
       "      <td>756.707500</td>\n",
       "      <td>760.475000</td>\n",
       "      <td>4.395242e+06</td>\n",
       "      <td>0.0</td>\n",
       "      <td>1.0</td>\n",
       "      <td>762.642500</td>\n",
       "      <td>766.792500</td>\n",
       "      <td>756.707500</td>\n",
       "      <td>760.475000</td>\n",
       "      <td>4.395242e+06</td>\n",
       "    </tr>\n",
       "    <tr>\n",
       "      <th>max</th>\n",
       "      <td>1615.960000</td>\n",
       "      <td>1617.540000</td>\n",
       "      <td>1590.890000</td>\n",
       "      <td>1598.390000</td>\n",
       "      <td>2.385606e+07</td>\n",
       "      <td>0.0</td>\n",
       "      <td>1.0</td>\n",
       "      <td>1615.960000</td>\n",
       "      <td>1617.540000</td>\n",
       "      <td>1590.890000</td>\n",
       "      <td>1598.390000</td>\n",
       "      <td>2.385606e+07</td>\n",
       "    </tr>\n",
       "  </tbody>\n",
       "</table>\n",
       "</div>"
      ],
      "text/plain": [
       "              Open         High          Low        Close        Volume  \\\n",
       "count  1566.000000  1566.000000  1566.000000  1566.000000  1.566000e+03   \n",
       "mean    533.855069   538.776586   528.322012   533.848274  3.841182e+06   \n",
       "std     320.251234   322.613529   317.058474   320.050743  2.232362e+06   \n",
       "min     173.810000   178.250000   172.000000   175.930000  9.844000e+05   \n",
       "25%     286.995000   291.417500   285.342675   288.960000  2.555776e+06   \n",
       "50%     384.035000   387.830000   381.546200   384.635000  3.264957e+06   \n",
       "75%     762.642500   766.792500   756.707500   760.475000  4.395242e+06   \n",
       "max    1615.960000  1617.540000  1590.890000  1598.390000  2.385606e+07   \n",
       "\n",
       "       Ex-Dividend  Split Ratio    Adj. Open    Adj. High     Adj. Low  \\\n",
       "count       1566.0       1566.0  1566.000000  1566.000000  1566.000000   \n",
       "mean           0.0          1.0   533.855069   538.776586   528.322012   \n",
       "std            0.0          0.0   320.251234   322.613529   317.058474   \n",
       "min            0.0          1.0   173.810000   178.250000   172.000000   \n",
       "25%            0.0          1.0   286.995000   291.417500   285.342675   \n",
       "50%            0.0          1.0   384.035000   387.830000   381.546200   \n",
       "75%            0.0          1.0   762.642500   766.792500   756.707500   \n",
       "max            0.0          1.0  1615.960000  1617.540000  1590.890000   \n",
       "\n",
       "        Adj. Close   Adj. Volume  \n",
       "count  1566.000000  1.566000e+03  \n",
       "mean    533.848274  3.841182e+06  \n",
       "std     320.050743  2.232362e+06  \n",
       "min     175.930000  9.844000e+05  \n",
       "25%     288.960000  2.555776e+06  \n",
       "50%     384.635000  3.264957e+06  \n",
       "75%     760.475000  4.395242e+06  \n",
       "max    1598.390000  2.385606e+07  "
      ]
     },
     "execution_count": 5,
     "metadata": {},
     "output_type": "execute_result"
    }
   ],
   "source": [
    "df.describe()"
   ]
  },
  {
   "cell_type": "code",
   "execution_count": 6,
   "metadata": {},
   "outputs": [
    {
     "data": {
      "text/plain": [
       "Adj. Open      1.000000\n",
       "Adj. High      0.999862\n",
       "High           0.999862\n",
       "Adj. Low       0.999742\n",
       "Low            0.999742\n",
       "Adj. Close     0.999637\n",
       "Close          0.999637\n",
       "Adj. Volume    0.053888\n",
       "Volume         0.053888\n",
       "Ex-Dividend         NaN\n",
       "Split Ratio         NaN\n",
       "Name: Open, dtype: float64"
      ]
     },
     "execution_count": 6,
     "metadata": {},
     "output_type": "execute_result"
    }
   ],
   "source": [
    "corr_seq = (df.corr()['Open']).sort_values(ascending=False).drop('Open')\n",
    "corr_seq"
   ]
  },
  {
   "cell_type": "code",
   "execution_count": 7,
   "metadata": {},
   "outputs": [
    {
     "name": "stdout",
     "output_type": "stream",
     "text": [
      "               Open      High       Low    Close     Volume  Adj. Open  \\\n",
      "Date                                                                     \n",
      "2012-01-03   175.89   179.475   175.550   179.03  5110800.0     175.89   \n",
      "2012-01-04   179.21   180.500   176.065   177.51  4205200.0     179.21   \n",
      "2012-01-05   175.94   178.250   174.050   177.61  3809100.0     175.94   \n",
      "2012-01-06   178.07   184.650   177.500   182.61  7008400.0     178.07   \n",
      "2012-01-09   182.76   184.370   177.000   178.56  5056900.0     182.76   \n",
      "...             ...       ...       ...      ...        ...        ...   \n",
      "2018-03-21  1586.45  1590.000  1563.170  1581.86  4667291.0    1586.45   \n",
      "2018-03-22  1565.47  1573.850  1542.400  1544.10  6177737.0    1565.47   \n",
      "2018-03-23  1539.01  1549.020  1495.360  1495.56  7843966.0    1539.01   \n",
      "2018-03-26  1530.00  1556.990  1499.250  1555.86  5547618.0    1530.00   \n",
      "2018-03-27  1572.40  1575.960  1482.320  1497.05  6793279.0    1572.40   \n",
      "\n",
      "            Adj. High  Adj. Low  Adj. Close  Adj. Volume  \n",
      "Date                                                      \n",
      "2012-01-03    179.475   175.550      179.03    5110800.0  \n",
      "2012-01-04    180.500   176.065      177.51    4205200.0  \n",
      "2012-01-05    178.250   174.050      177.61    3809100.0  \n",
      "2012-01-06    184.650   177.500      182.61    7008400.0  \n",
      "2012-01-09    184.370   177.000      178.56    5056900.0  \n",
      "...               ...       ...         ...          ...  \n",
      "2018-03-21   1590.000  1563.170     1581.86    4667291.0  \n",
      "2018-03-22   1573.850  1542.400     1544.10    6177737.0  \n",
      "2018-03-23   1549.020  1495.360     1495.56    7843966.0  \n",
      "2018-03-26   1556.990  1499.250     1555.86    5547618.0  \n",
      "2018-03-27   1575.960  1482.320     1497.05    6793279.0  \n",
      "\n",
      "[1566 rows x 10 columns]\n",
      "(1566, 10)\n"
     ]
    }
   ],
   "source": [
    "df=df.drop(['Ex-Dividend', 'Split Ratio'],1)\n",
    "print(df)\n",
    "print(df.shape)"
   ]
  },
  {
   "cell_type": "code",
   "execution_count": 8,
   "metadata": {},
   "outputs": [
    {
     "name": "stderr",
     "output_type": "stream",
     "text": [
      "C:\\Users\\ether\\.conda\\envs\\myenv\\lib\\site-packages\\pandas\\plotting\\_matplotlib\\converter.py:103: FutureWarning: Using an implicitly registered datetime converter for a matplotlib plotting method. The converter was registered by pandas on import. Future versions of pandas will require you to explicitly register matplotlib converters.\n",
      "\n",
      "To register the converters:\n",
      "\t>>> from pandas.plotting import register_matplotlib_converters\n",
      "\t>>> register_matplotlib_converters()\n",
      "  warnings.warn(msg, FutureWarning)\n"
     ]
    },
    {
     "data": {
      "image/png": "[encoded data removed]",
      "text/plain": [
       "<Figure size 1200x720 with 10 Axes>"
      ]
     },
     "metadata": {
      "needs_background": "light"
     },
     "output_type": "display_data"
    }
   ],
   "source": [
    "# Show the \n",
    "fig, axes = plt.subplots(nrows=2, ncols=5, dpi=120, figsize=(10,6))\n",
    "for i, ax in enumerate(axes.flatten()):\n",
    "    data = df[df.columns[i]]\n",
    "    ax.plot(data, color='red', linewidth=1)\n",
    "    # Decorations\n",
    "    ax.set_title(df.columns[i])\n",
    "    ax.xaxis.set_ticks_position('none')\n",
    "    ax.yaxis.set_ticks_position('none')\n",
    "    ax.spines[\"top\"].set_alpha(0)\n",
    "    ax.tick_params(labelsize=6)\n",
    "\n",
    "plt.tight_layout();"
   ]
  },
  {
   "cell_type": "markdown",
   "metadata": {},
   "source": [
    "Data enginering"
   ]
  },
  {
   "cell_type": "code",
   "execution_count": 9,
   "metadata": {},
   "outputs": [
    {
     "name": "stdout",
     "output_type": "stream",
     "text": [
      "               Open      High       Low    Close     Volume  Adj. Open  \\\n",
      "Date                                                                     \n",
      "2012-01-03   175.89   179.475   175.550   179.03  5110800.0     175.89   \n",
      "2012-01-04   179.21   180.500   176.065   177.51  4205200.0     179.21   \n",
      "2012-01-05   175.94   178.250   174.050   177.61  3809100.0     175.94   \n",
      "2012-01-06   178.07   184.650   177.500   182.61  7008400.0     178.07   \n",
      "2012-01-09   182.76   184.370   177.000   178.56  5056900.0     182.76   \n",
      "...             ...       ...       ...      ...        ...        ...   \n",
      "2018-03-21  1586.45  1590.000  1563.170  1581.86  4667291.0    1586.45   \n",
      "2018-03-22  1565.47  1573.850  1542.400  1544.10  6177737.0    1565.47   \n",
      "2018-03-23  1539.01  1549.020  1495.360  1495.56  7843966.0    1539.01   \n",
      "2018-03-26  1530.00  1556.990  1499.250  1555.86  5547618.0    1530.00   \n",
      "2018-03-27  1572.40  1575.960  1482.320  1497.05  6793279.0    1572.40   \n",
      "\n",
      "            Adj. High  Adj. Low  Adj. Close  Adj. Volume  OpenTomorrow  \\\n",
      "Date                                                                     \n",
      "2012-01-03    179.475   175.550      179.03    5110800.0        179.21   \n",
      "2012-01-04    180.500   176.065      177.51    4205200.0        175.94   \n",
      "2012-01-05    178.250   174.050      177.61    3809100.0        178.07   \n",
      "2012-01-06    184.650   177.500      182.61    7008400.0        182.76   \n",
      "2012-01-09    184.370   177.000      178.56    5056900.0        181.10   \n",
      "...               ...       ...         ...          ...           ...   \n",
      "2018-03-21   1590.000  1563.170     1581.86    4667291.0       1565.47   \n",
      "2018-03-22   1573.850  1542.400     1544.10    6177737.0       1539.01   \n",
      "2018-03-23   1549.020  1495.360     1495.56    7843966.0       1530.00   \n",
      "2018-03-26   1556.990  1499.250     1555.86    5547618.0       1572.40   \n",
      "2018-03-27   1575.960  1482.320     1497.05    6793279.0           NaN   \n",
      "\n",
      "             Open2d  \n",
      "Date                 \n",
      "2012-01-03   175.94  \n",
      "2012-01-04   178.07  \n",
      "2012-01-05   182.76  \n",
      "2012-01-06   181.10  \n",
      "2012-01-09   179.64  \n",
      "...             ...  \n",
      "2018-03-21  1539.01  \n",
      "2018-03-22  1530.00  \n",
      "2018-03-23  1572.40  \n",
      "2018-03-26      NaN  \n",
      "2018-03-27      NaN  \n",
      "\n",
      "[1566 rows x 12 columns]\n"
     ]
    }
   ],
   "source": [
    "#Create another column to store tomorrow's open price shifted 1 units up\n",
    "df['OpenTomorrow'] = df[['Open']].shift(-1)\n",
    "df['Open2d'] = df[['Open']].shift(-2)\n",
    "#print the new data set\n",
    "print(df)"
   ]
  },
  {
   "cell_type": "code",
   "execution_count": 38,
   "metadata": {},
   "outputs": [
    {
     "data": {
      "text/html": [
       "<div>\n",
       "<style scoped>\n",
       "    .dataframe tbody tr th:only-of-type {\n",
       "        vertical-align: middle;\n",
       "    }\n",
       "\n",
       "    .dataframe tbody tr th {\n",
       "        vertical-align: top;\n",
       "    }\n",
       "\n",
       "    .dataframe thead th {\n",
       "        text-align: right;\n",
       "    }\n",
       "</style>\n",
       "<table border=\"1\" class=\"dataframe\">\n",
       "  <thead>\n",
       "    <tr style=\"text-align: right;\">\n",
       "      <th></th>\n",
       "      <th>Close</th>\n",
       "      <th>OpenTomorrow</th>\n",
       "      <th>Open2d</th>\n",
       "    </tr>\n",
       "    <tr>\n",
       "      <th>Date</th>\n",
       "      <th></th>\n",
       "      <th></th>\n",
       "      <th></th>\n",
       "    </tr>\n",
       "  </thead>\n",
       "  <tbody>\n",
       "    <tr>\n",
       "      <th>2012-01-03</th>\n",
       "      <td>179.03</td>\n",
       "      <td>179.21</td>\n",
       "      <td>175.94</td>\n",
       "    </tr>\n",
       "    <tr>\n",
       "      <th>2012-01-04</th>\n",
       "      <td>177.51</td>\n",
       "      <td>175.94</td>\n",
       "      <td>178.07</td>\n",
       "    </tr>\n",
       "    <tr>\n",
       "      <th>2012-01-05</th>\n",
       "      <td>177.61</td>\n",
       "      <td>178.07</td>\n",
       "      <td>182.76</td>\n",
       "    </tr>\n",
       "    <tr>\n",
       "      <th>2012-01-06</th>\n",
       "      <td>182.61</td>\n",
       "      <td>182.76</td>\n",
       "      <td>181.10</td>\n",
       "    </tr>\n",
       "    <tr>\n",
       "      <th>2012-01-09</th>\n",
       "      <td>178.56</td>\n",
       "      <td>181.10</td>\n",
       "      <td>179.64</td>\n",
       "    </tr>\n",
       "    <tr>\n",
       "      <th>...</th>\n",
       "      <td>...</td>\n",
       "      <td>...</td>\n",
       "      <td>...</td>\n",
       "    </tr>\n",
       "    <tr>\n",
       "      <th>2018-03-20</th>\n",
       "      <td>1586.51</td>\n",
       "      <td>1586.45</td>\n",
       "      <td>1565.47</td>\n",
       "    </tr>\n",
       "    <tr>\n",
       "      <th>2018-03-21</th>\n",
       "      <td>1581.86</td>\n",
       "      <td>1565.47</td>\n",
       "      <td>1539.01</td>\n",
       "    </tr>\n",
       "    <tr>\n",
       "      <th>2018-03-22</th>\n",
       "      <td>1544.10</td>\n",
       "      <td>1539.01</td>\n",
       "      <td>1530.00</td>\n",
       "    </tr>\n",
       "    <tr>\n",
       "      <th>2018-03-23</th>\n",
       "      <td>1495.56</td>\n",
       "      <td>1530.00</td>\n",
       "      <td>1572.40</td>\n",
       "    </tr>\n",
       "    <tr>\n",
       "      <th>2018-03-26</th>\n",
       "      <td>1555.86</td>\n",
       "      <td>1572.40</td>\n",
       "      <td>NaN</td>\n",
       "    </tr>\n",
       "  </tbody>\n",
       "</table>\n",
       "<p>1565 rows × 3 columns</p>\n",
       "</div>"
      ],
      "text/plain": [
       "              Close  OpenTomorrow   Open2d\n",
       "Date                                      \n",
       "2012-01-03   179.03        179.21   175.94\n",
       "2012-01-04   177.51        175.94   178.07\n",
       "2012-01-05   177.61        178.07   182.76\n",
       "2012-01-06   182.61        182.76   181.10\n",
       "2012-01-09   178.56        181.10   179.64\n",
       "...             ...           ...      ...\n",
       "2018-03-20  1586.51       1586.45  1565.47\n",
       "2018-03-21  1581.86       1565.47  1539.01\n",
       "2018-03-22  1544.10       1539.01  1530.00\n",
       "2018-03-23  1495.56       1530.00  1572.40\n",
       "2018-03-26  1555.86       1572.40      NaN\n",
       "\n",
       "[1565 rows x 3 columns]"
      ]
     },
     "execution_count": 38,
     "metadata": {},
     "output_type": "execute_result"
    }
   ],
   "source": [
    "data = df[['Close','OpenTomorrow','Open2d']][:-1]\n",
    "data"
   ]
  },
  {
   "cell_type": "code",
   "execution_count": 39,
   "metadata": {},
   "outputs": [
    {
     "name": "stdout",
     "output_type": "stream",
     "text": [
      "              Close  OpenTomorrow   Open2d  Prediction\n",
      "Date                                                  \n",
      "2012-01-03   179.03        179.21   175.94      177.79\n",
      "2012-01-04   177.51        175.94   178.07      180.09\n",
      "2012-01-05   177.61        178.07   182.76      182.65\n",
      "2012-01-06   182.61        182.76   181.10      181.95\n",
      "2012-01-09   178.56        181.10   179.64      178.78\n",
      "...             ...           ...      ...         ...\n",
      "2018-03-20  1586.51       1586.45  1565.47         NaN\n",
      "2018-03-21  1581.86       1565.47  1539.01         NaN\n",
      "2018-03-22  1544.10       1539.01  1530.00         NaN\n",
      "2018-03-23  1495.56       1530.00  1572.40         NaN\n",
      "2018-03-26  1555.86       1572.40      NaN         NaN\n",
      "\n",
      "[1565 rows x 4 columns]\n"
     ]
    }
   ],
   "source": [
    "# use 30 days' data to predict\n",
    "forecast_out = 30 #'n=30' days\n",
    "#Create prediction column, shifted '30' units up\n",
    "data['Prediction'] = data[['OpenTomorrow']].shift(-forecast_out)\n",
    "print(data)"
   ]
  },
  {
   "cell_type": "code",
   "execution_count": 40,
   "metadata": {},
   "outputs": [
    {
     "data": {
      "text/plain": [
       "1565"
      ]
     },
     "execution_count": 40,
     "metadata": {},
     "output_type": "execute_result"
    }
   ],
   "source": [
    "N = data.shape[0] # total num days\n",
    "N"
   ]
  },
  {
   "cell_type": "code",
   "execution_count": 41,
   "metadata": {},
   "outputs": [
    {
     "name": "stdout",
     "output_type": "stream",
     "text": [
      "[[ 175.94]\n",
      " [ 178.07]\n",
      " [ 182.76]\n",
      " ...\n",
      " [1530.  ]\n",
      " [1572.4 ]\n",
      " [    nan]]\n",
      "[[ 175.94]\n",
      " [ 178.07]\n",
      " [ 182.76]\n",
      " ...\n",
      " [1373.49]\n",
      " [1364.67]\n",
      " [1385.93]]\n"
     ]
    }
   ],
   "source": [
    "# Create the independent data set (X)\n",
    "# Convert the dataframe to a numpy array\n",
    "X = np.array(data.drop(['OpenTomorrow','Prediction','Close'],1))\n",
    "print(X)\n",
    "#Remove the last '30' rows\n",
    "X = X[:-forecast_out]\n",
    "print(X)"
   ]
  },
  {
   "cell_type": "code",
   "execution_count": 42,
   "metadata": {},
   "outputs": [
    {
     "name": "stdout",
     "output_type": "stream",
     "text": [
      "[ 179.21  175.94  178.07 ... 1539.01 1530.   1572.4 ]\n",
      "[ 179.21  175.94  178.07 ... 1429.67 1373.49 1364.67]\n"
     ]
    }
   ],
   "source": [
    "# Create the dependent data set (y)\n",
    "# Convert the dataframe to a numpy array \n",
    "y = np.array(data['OpenTomorrow'])\n",
    "print(y)\n",
    "# Get all of the y values except the last '300' rows\n",
    "y = y[:-forecast_out]\n",
    "print(y)\n"
   ]
  },
  {
   "cell_type": "code",
   "execution_count": 43,
   "metadata": {},
   "outputs": [
    {
     "name": "stdout",
     "output_type": "stream",
     "text": [
      "1535\n",
      "1535\n"
     ]
    }
   ],
   "source": [
    "print(X.size)\n",
    "print(y.size)"
   ]
  },
  {
   "cell_type": "markdown",
   "metadata": {},
   "source": [
    "Set train data and test data"
   ]
  },
  {
   "cell_type": "code",
   "execution_count": 56,
   "metadata": {},
   "outputs": [],
   "source": [
    "# Split the data into 80% training and 20% testing\n",
    "x_train, x_test, y_train, y_test = train_test_split(X, y, test_size=0.2)"
   ]
  },
  {
   "cell_type": "code",
   "execution_count": 57,
   "metadata": {},
   "outputs": [
    {
     "name": "stdout",
     "output_type": "stream",
     "text": [
      "[[1172.  ]\n",
      " [1188.3 ]\n",
      " [1205.  ]\n",
      " [1217.51]\n",
      " [1236.  ]\n",
      " [1256.9 ]\n",
      " [1245.15]\n",
      " [1259.74]\n",
      " [1273.39]\n",
      " [1323.  ]\n",
      " [1312.24]\n",
      " [1293.95]\n",
      " [1312.  ]\n",
      " [1297.17]\n",
      " [1338.09]\n",
      " [1374.82]\n",
      " [1368.  ]\n",
      " [1392.01]\n",
      " [1409.18]\n",
      " [1403.17]\n",
      " [1451.3 ]\n",
      " [1445.  ]\n",
      " [1477.39]\n",
      " [1402.62]\n",
      " [1361.46]\n",
      " [1449.  ]\n",
      " [1429.67]\n",
      " [1373.49]\n",
      " [1364.67]\n",
      " [1385.93]]\n"
     ]
    }
   ],
   "source": [
    "# Set x_forecast equal to the last 300 rows of the original data\n",
    "x_forecast = X[-forecast_out:]\n",
    "print(x_forecast)"
   ]
  },
  {
   "cell_type": "markdown",
   "metadata": {},
   "source": [
    "Build LR model"
   ]
  },
  {
   "cell_type": "code",
   "execution_count": 58,
   "metadata": {},
   "outputs": [
    {
     "data": {
      "text/plain": [
       "LinearRegression(copy_X=True, fit_intercept=True, n_jobs=None, normalize=False)"
      ]
     },
     "execution_count": 58,
     "metadata": {},
     "output_type": "execute_result"
    }
   ],
   "source": [
    "# Create and train the Linear Regression  Model\n",
    "lr = LinearRegression()\n",
    "lr.fit(x_train, y_train)"
   ]
  },
  {
   "cell_type": "code",
   "execution_count": 59,
   "metadata": {},
   "outputs": [
    {
     "data": {
      "text/plain": [
       "{'copy_X': True, 'fit_intercept': True, 'n_jobs': None, 'normalize': False}"
      ]
     },
     "execution_count": 59,
     "metadata": {},
     "output_type": "execute_result"
    }
   ],
   "source": [
    "lr.get_params()"
   ]
  },
  {
   "cell_type": "code",
   "execution_count": 60,
   "metadata": {},
   "outputs": [
    {
     "name": "stdout",
     "output_type": "stream",
     "text": [
      "lr confidence:  0.9989126853835097\n"
     ]
    }
   ],
   "source": [
    "# the coefficient of determination R^2 of the prediction. \n",
    "# The best possible score is 1.0\n",
    "lr_confidence = lr.score(x_test, y_test)\n",
    "print(\"lr confidence: \", lr_confidence)"
   ]
  },
  {
   "cell_type": "markdown",
   "metadata": {},
   "source": [
    "Prediction with LR"
   ]
  },
  {
   "cell_type": "code",
   "execution_count": 61,
   "metadata": {},
   "outputs": [
    {
     "name": "stdout",
     "output_type": "stream",
     "text": [
      "LR MSE: 5.895\n"
     ]
    }
   ],
   "source": [
    "# Print linear regression model predictions for the next '30' days\n",
    "lr_prediction = lr.predict(x_forecast)\n",
    "lr_score = mean_squared_error(x_forecast, lr_prediction)\n",
    "print('LR MSE: %.3f' % lr_score)"
   ]
  },
  {
   "cell_type": "code",
   "execution_count": 62,
   "metadata": {},
   "outputs": [
    {
     "data": {
      "image/png": "[encoded data removed]",
      "text/plain": [
       "<Figure size 1080x360 with 1 Axes>"
      ]
     },
     "metadata": {
      "needs_background": "light"
     },
     "output_type": "display_data"
    }
   ],
   "source": [
    "#show the result\n",
    "plt.figure(figsize=(15, 5));\n",
    "plt.xlim([0, len(lr_prediction)])\n",
    "plt.plot(range(len(x_forecast)), x_forecast, 'grey', label = 'x_forecast')\n",
    "plt.plot(range(len(lr_prediction)), lr_prediction, 'b', label = 'lr_prediction')\n",
    "plt.title('future stock prices')\n",
    "plt.xlabel('time [days]')\n",
    "plt.ylabel('normalized price')\n",
    "plt.legend(loc='best');"
   ]
  },
  {
   "cell_type": "markdown",
   "metadata": {},
   "source": [
    "Build SVM model"
   ]
  },
  {
   "cell_type": "code",
   "execution_count": 23,
   "metadata": {},
   "outputs": [
    {
     "data": {
      "text/plain": [
       "SVR(C=1000.0, cache_size=200, coef0=0.0, degree=3, epsilon=0.1, gamma=0.1,\n",
       "    kernel='rbf', max_iter=-1, shrinking=True, tol=0.001, verbose=False)"
      ]
     },
     "execution_count": 23,
     "metadata": {},
     "output_type": "execute_result"
    }
   ],
   "source": [
    "# Create and train the Support Vector Machine (Regressor) \n",
    "svr_rbf = SVR(kernel='rbf', C=1e3,gamma=0.1) \n",
    "svr_rbf.fit(x_train, y_train)"
   ]
  },
  {
   "cell_type": "code",
   "execution_count": 24,
   "metadata": {},
   "outputs": [
    {
     "data": {
      "text/plain": [
       "SVR(C=1.0, cache_size=200, coef0=0.0, degree=3, epsilon=0.1,\n",
       "    gamma='auto_deprecated', kernel='linear', max_iter=-1, shrinking=True,\n",
       "    tol=0.001, verbose=False)"
      ]
     },
     "execution_count": 24,
     "metadata": {},
     "output_type": "execute_result"
    }
   ],
   "source": [
    "svr_linear = SVR(kernel='linear') \n",
    "svr_linear.fit(x_train, y_train)"
   ]
  },
  {
   "cell_type": "code",
   "execution_count": 25,
   "metadata": {},
   "outputs": [
    {
     "name": "stdout",
     "output_type": "stream",
     "text": [
      "svm svr_rbf confidence:  0.9471903399112754\n",
      "svm svr_linear confidence:  0.9987111286699446\n"
     ]
    }
   ],
   "source": [
    "# the coefficient of determination R^2 of the prediction. \n",
    "# The best possible score is 1.0\n",
    "svm_confidence = svr_rbf.score(x_test, y_test)\n",
    "print(\"svm svr_rbf confidence: \", svm_confidence)\n",
    "svm_confidence = svr_linear.score(x_test, y_test)\n",
    "print(\"svm svr_linear confidence: \", svm_confidence)"
   ]
  },
  {
   "cell_type": "markdown",
   "metadata": {},
   "source": [
    "Prediction with SVM"
   ]
  },
  {
   "cell_type": "code",
   "execution_count": 26,
   "metadata": {},
   "outputs": [
    {
     "name": "stdout",
     "output_type": "stream",
     "text": [
      "SVM rbf MSE : 24670.900\n",
      "SVM linear MSE: 7.027\n"
     ]
    }
   ],
   "source": [
    "svm_prediction = svr_rbf.predict(x_forecast)\n",
    "svm_score = mean_squared_error(x_forecast, svm_prediction)\n",
    "print('SVM rbf MSE : %.3f' % svm_score)\n",
    "svm_prediction_linear = svr_linear.predict(x_forecast)\n",
    "svm_score_linear = mean_squared_error(x_forecast, svm_prediction_linear)\n",
    "print('SVM linear MSE: %.3f' % svm_score_linear)\n",
    "# Print support vector regressor model predictions for the next '30' days"
   ]
  },
  {
   "cell_type": "code",
   "execution_count": 75,
   "metadata": {},
   "outputs": [
    {
     "data": {
      "image/png": "[encoded data removed]",
      "text/plain": [
       "<Figure size 1080x360 with 1 Axes>"
      ]
     },
     "metadata": {
      "needs_background": "light"
     },
     "output_type": "display_data"
    }
   ],
   "source": [
    "#show the result\n",
    "plt.figure(figsize=(15, 5));\n",
    "plt.xlim([0, len(svm_prediction)])\n",
    "plt.plot(range(len(x_forecast)), x_forecast, 'grey', label = 'x_forecast')\n",
    "plt.plot(range(len(svm_prediction)), svm_prediction, 'r', label = 'svm_prediction')\n",
    "#plt.plot(range(len(lr_prediction)), lr_prediction, 'b', label = 'lr_prediction')\n",
    "plt.title('future stock prices')\n",
    "plt.xlabel('time [days]')\n",
    "plt.ylabel('normalized price')\n",
    "plt.legend(loc='best');"
   ]
  },
  {
   "cell_type": "code",
   "execution_count": 28,
   "metadata": {},
   "outputs": [
    {
     "data": {
      "image/png": "[encoded data removed]",
      "text/plain": [
       "<Figure size 1080x360 with 1 Axes>"
      ]
     },
     "metadata": {
      "needs_background": "light"
     },
     "output_type": "display_data"
    }
   ],
   "source": [
    "#show the result\n",
    "plt.figure(figsize=(15, 5));\n",
    "plt.xlim([0, len(svm_prediction_linear)])\n",
    "plt.plot(range(len(x_forecast)), x_forecast, 'grey', label = 'x_forecast')\n",
    "plt.plot(range(len(svm_prediction_linear)), svm_prediction_linear, 'r', label = 'svm_prediction_linear')\n",
    "#plt.plot(range(len(lr_prediction)), lr_prediction, 'b', label = 'lr_prediction')\n",
    "plt.title('past and future stock prices')\n",
    "plt.xlabel('time [days]')\n",
    "plt.ylabel('normalized price')\n",
    "plt.legend(loc='best');"
   ]
  },
  {
   "cell_type": "markdown",
   "metadata": {},
   "source": [
    "Auto Regression"
   ]
  },
  {
   "cell_type": "code",
   "execution_count": 63,
   "metadata": {},
   "outputs": [
    {
     "data": {
      "image/png": "[encoded data removed]",
      "text/plain": [
       "<Figure size 432x288 with 1 Axes>"
      ]
     },
     "metadata": {
      "needs_background": "light"
     },
     "output_type": "display_data"
    }
   ],
   "source": [
    "from pandas import Series\n",
    "from pandas import DataFrame\n",
    "from pandas import concat\n",
    "from matplotlib import pyplot\n",
    "from sklearn.metrics import mean_squared_error\n",
    "from pandas.plotting import lag_plot\n",
    "data=df[['Open']]\n",
    "lag_plot(data)\n",
    "plt.show()"
   ]
  },
  {
   "cell_type": "code",
   "execution_count": 64,
   "metadata": {},
   "outputs": [
    {
     "name": "stderr",
     "output_type": "stream",
     "text": [
      "C:\\Users\\ether\\.conda\\envs\\myenv\\lib\\site-packages\\ipykernel_launcher.py:1: SettingWithCopyWarning: \n",
      "A value is trying to be set on a copy of a slice from a DataFrame.\n",
      "Try using .loc[row_indexer,col_indexer] = value instead\n",
      "\n",
      "See the caveats in the documentation: http://pandas.pydata.org/pandas-docs/stable/user_guide/indexing.html#returning-a-view-versus-a-copy\n",
      "  \"\"\"Entry point for launching an IPython kernel.\n"
     ]
    }
   ],
   "source": [
    "data['OpenTmr']=data['Open'].shift(-1)\n",
    "data=data[:-1]\n",
    "forecast=data[-30:]\n",
    "data=data[:-30]\n",
    "#print(x_forecast)"
   ]
  },
  {
   "cell_type": "code",
   "execution_count": 65,
   "metadata": {},
   "outputs": [
    {
     "data": {
      "image/png": "[encoded data removed]",
      "text/plain": [
       "<Figure size 432x288 with 1 Axes>"
      ]
     },
     "metadata": {
      "needs_background": "light"
     },
     "output_type": "display_data"
    }
   ],
   "source": [
    "plt.plot(data['Open'])\n",
    "plt.show()"
   ]
  },
  {
   "cell_type": "code",
   "execution_count": 31,
   "metadata": {},
   "outputs": [
    {
     "name": "stdout",
     "output_type": "stream",
     "text": [
      "(307,)\n"
     ]
    }
   ],
   "source": [
    "from pandas import Series\n",
    "from pandas import DataFrame\n",
    "from pandas import concat\n",
    "from sklearn.metrics import mean_squared_error\n",
    "\n",
    "# split into train and test sets\n",
    "y = np.array(data['OpenTmr'])\n",
    "X = np.array(data['Open'])\n",
    "\n",
    "# Split the data into 80% training and 20% testing\n",
    "x_train, x_test, y_train, y_test = train_test_split(X, y, test_size=0.2)\n",
    "print(y_test.shape)\n",
    "y_forecast=np.array(forecast['OpenTmr'])\n",
    "x_forecast=np.array(forecast['Open'])"
   ]
  },
  {
   "cell_type": "markdown",
   "metadata": {},
   "source": [
    "use persistence model to check the performance of the stock"
   ]
  },
  {
   "cell_type": "code",
   "execution_count": 32,
   "metadata": {},
   "outputs": [
    {
     "name": "stdout",
     "output_type": "stream",
     "text": [
      "Train MSE: 104.167\n",
      "Test MSE: 108.718\n",
      "forecast MSE: 626.743\n"
     ]
    },
    {
     "data": {
      "image/png": "[encoded data removed]",
      "text/plain": [
       "<Figure size 1080x360 with 1 Axes>"
      ]
     },
     "metadata": {
      "needs_background": "light"
     },
     "output_type": "display_data"
    }
   ],
   "source": [
    "# persistence model\n",
    "def model_persistence(x):\n",
    "    return x\n",
    "\n",
    "# walk-forward validation\n",
    "predictions = list()\n",
    "for x in x_train:\n",
    "    yhat = model_persistence(x)\n",
    "    predictions.append(yhat)\n",
    "train_score = mean_squared_error(y_train, predictions)\n",
    "print('Train MSE: %.3f' % train_score)\n",
    "sublen=len(predictions)\n",
    "\n",
    "for x in x_test:\n",
    "    yhat = model_persistence(x)\n",
    "    predictions.append(yhat)\n",
    "test_score = mean_squared_error(y_test, predictions[sublen:])\n",
    "print('Test MSE: %.3f' % test_score)\n",
    "sublen=len(predictions)\n",
    "\n",
    "for x in x_forecast:\n",
    "    yhat = model_persistence(x)\n",
    "    predictions.append(yhat)\n",
    "forecast_score = mean_squared_error(y_forecast, predictions[sublen:])\n",
    "print('forecast MSE: %.3f' % forecast_score)\n",
    "\n",
    "# plot predictions vs expected\n",
    "plt.figure(figsize=(15, 5));\n",
    "plt.plot(range(len(x_forecast)), x_forecast, 'grey', label = 'x_forecast')\n",
    "plt.plot(range(len(x_forecast)), predictions[sublen:], 'r', label = 'predictions')\n",
    "plt.legend(loc='best');"
   ]
  },
  {
   "cell_type": "markdown",
   "metadata": {},
   "source": [
    "find if bootstrap aggregating based on origin formula will predict better"
   ]
  },
  {
   "cell_type": "code",
   "execution_count": 70,
   "metadata": {},
   "outputs": [],
   "source": [
    "import scipy.stats as ss\n",
    "import numpy as np\n",
    "import pandas as pd\n",
    "from scipy import stats\n",
    "import seaborn as sns"
   ]
  },
  {
   "cell_type": "code",
   "execution_count": 71,
   "metadata": {},
   "outputs": [
    {
     "data": {
      "text/html": [
       "<div>\n",
       "<style scoped>\n",
       "    .dataframe tbody tr th:only-of-type {\n",
       "        vertical-align: middle;\n",
       "    }\n",
       "\n",
       "    .dataframe tbody tr th {\n",
       "        vertical-align: top;\n",
       "    }\n",
       "\n",
       "    .dataframe thead th {\n",
       "        text-align: right;\n",
       "    }\n",
       "</style>\n",
       "<table border=\"1\" class=\"dataframe\">\n",
       "  <thead>\n",
       "    <tr style=\"text-align: right;\">\n",
       "      <th></th>\n",
       "      <th>Open</th>\n",
       "      <th>High</th>\n",
       "      <th>Low</th>\n",
       "      <th>Close</th>\n",
       "      <th>Volume</th>\n",
       "      <th>Adj. Open</th>\n",
       "      <th>Adj. High</th>\n",
       "      <th>Adj. Low</th>\n",
       "      <th>Adj. Close</th>\n",
       "      <th>Adj. Volume</th>\n",
       "      <th>OpenTomorrow</th>\n",
       "      <th>Open2d</th>\n",
       "      <th>CloseYest</th>\n",
       "      <th>OpenTmr</th>\n",
       "      <th>Close2dayBefore</th>\n",
       "    </tr>\n",
       "    <tr>\n",
       "      <th>Date</th>\n",
       "      <th></th>\n",
       "      <th></th>\n",
       "      <th></th>\n",
       "      <th></th>\n",
       "      <th></th>\n",
       "      <th></th>\n",
       "      <th></th>\n",
       "      <th></th>\n",
       "      <th></th>\n",
       "      <th></th>\n",
       "      <th></th>\n",
       "      <th></th>\n",
       "      <th></th>\n",
       "      <th></th>\n",
       "      <th></th>\n",
       "    </tr>\n",
       "  </thead>\n",
       "  <tbody>\n",
       "    <tr>\n",
       "      <th>2018-03-19</th>\n",
       "      <td>1554.53</td>\n",
       "      <td>1561.66</td>\n",
       "      <td>1525.35</td>\n",
       "      <td>1544.93</td>\n",
       "      <td>6376619.0</td>\n",
       "      <td>1554.53</td>\n",
       "      <td>1561.66</td>\n",
       "      <td>1525.35</td>\n",
       "      <td>1544.93</td>\n",
       "      <td>6376619.0</td>\n",
       "      <td>1550.34</td>\n",
       "      <td>1586.45</td>\n",
       "      <td>1586.51</td>\n",
       "      <td>1550.34</td>\n",
       "      <td>1581.86</td>\n",
       "    </tr>\n",
       "    <tr>\n",
       "      <th>2018-03-20</th>\n",
       "      <td>1550.34</td>\n",
       "      <td>1587.00</td>\n",
       "      <td>1545.41</td>\n",
       "      <td>1586.51</td>\n",
       "      <td>4507049.0</td>\n",
       "      <td>1550.34</td>\n",
       "      <td>1587.00</td>\n",
       "      <td>1545.41</td>\n",
       "      <td>1586.51</td>\n",
       "      <td>4507049.0</td>\n",
       "      <td>1586.45</td>\n",
       "      <td>1565.47</td>\n",
       "      <td>1581.86</td>\n",
       "      <td>1586.45</td>\n",
       "      <td>1544.10</td>\n",
       "    </tr>\n",
       "    <tr>\n",
       "      <th>2018-03-21</th>\n",
       "      <td>1586.45</td>\n",
       "      <td>1590.00</td>\n",
       "      <td>1563.17</td>\n",
       "      <td>1581.86</td>\n",
       "      <td>4667291.0</td>\n",
       "      <td>1586.45</td>\n",
       "      <td>1590.00</td>\n",
       "      <td>1563.17</td>\n",
       "      <td>1581.86</td>\n",
       "      <td>4667291.0</td>\n",
       "      <td>1565.47</td>\n",
       "      <td>1539.01</td>\n",
       "      <td>1544.10</td>\n",
       "      <td>1565.47</td>\n",
       "      <td>1495.56</td>\n",
       "    </tr>\n",
       "    <tr>\n",
       "      <th>2018-03-22</th>\n",
       "      <td>1565.47</td>\n",
       "      <td>1573.85</td>\n",
       "      <td>1542.40</td>\n",
       "      <td>1544.10</td>\n",
       "      <td>6177737.0</td>\n",
       "      <td>1565.47</td>\n",
       "      <td>1573.85</td>\n",
       "      <td>1542.40</td>\n",
       "      <td>1544.10</td>\n",
       "      <td>6177737.0</td>\n",
       "      <td>1539.01</td>\n",
       "      <td>1530.00</td>\n",
       "      <td>1495.56</td>\n",
       "      <td>1539.01</td>\n",
       "      <td>1555.86</td>\n",
       "    </tr>\n",
       "    <tr>\n",
       "      <th>2018-03-23</th>\n",
       "      <td>1539.01</td>\n",
       "      <td>1549.02</td>\n",
       "      <td>1495.36</td>\n",
       "      <td>1495.56</td>\n",
       "      <td>7843966.0</td>\n",
       "      <td>1539.01</td>\n",
       "      <td>1549.02</td>\n",
       "      <td>1495.36</td>\n",
       "      <td>1495.56</td>\n",
       "      <td>7843966.0</td>\n",
       "      <td>1530.00</td>\n",
       "      <td>1572.40</td>\n",
       "      <td>1555.86</td>\n",
       "      <td>1530.00</td>\n",
       "      <td>1497.05</td>\n",
       "    </tr>\n",
       "  </tbody>\n",
       "</table>\n",
       "</div>"
      ],
      "text/plain": [
       "               Open     High      Low    Close     Volume  Adj. Open  \\\n",
       "Date                                                                   \n",
       "2018-03-19  1554.53  1561.66  1525.35  1544.93  6376619.0    1554.53   \n",
       "2018-03-20  1550.34  1587.00  1545.41  1586.51  4507049.0    1550.34   \n",
       "2018-03-21  1586.45  1590.00  1563.17  1581.86  4667291.0    1586.45   \n",
       "2018-03-22  1565.47  1573.85  1542.40  1544.10  6177737.0    1565.47   \n",
       "2018-03-23  1539.01  1549.02  1495.36  1495.56  7843966.0    1539.01   \n",
       "\n",
       "            Adj. High  Adj. Low  Adj. Close  Adj. Volume  OpenTomorrow  \\\n",
       "Date                                                                     \n",
       "2018-03-19    1561.66   1525.35     1544.93    6376619.0       1550.34   \n",
       "2018-03-20    1587.00   1545.41     1586.51    4507049.0       1586.45   \n",
       "2018-03-21    1590.00   1563.17     1581.86    4667291.0       1565.47   \n",
       "2018-03-22    1573.85   1542.40     1544.10    6177737.0       1539.01   \n",
       "2018-03-23    1549.02   1495.36     1495.56    7843966.0       1530.00   \n",
       "\n",
       "             Open2d  CloseYest  OpenTmr  Close2dayBefore  \n",
       "Date                                                      \n",
       "2018-03-19  1586.45    1586.51  1550.34          1581.86  \n",
       "2018-03-20  1565.47    1581.86  1586.45          1544.10  \n",
       "2018-03-21  1539.01    1544.10  1565.47          1495.56  \n",
       "2018-03-22  1530.00    1495.56  1539.01          1555.86  \n",
       "2018-03-23  1572.40    1555.86  1530.00          1497.05  "
      ]
     },
     "execution_count": 71,
     "metadata": {},
     "output_type": "execute_result"
    }
   ],
   "source": [
    "#use 3 days' data to predict\n",
    "dataAG= df\n",
    "dataAG['CloseYest'] = df['Close'].shift(-1)\n",
    "dataAG['OpenTmr'] = df['Open'].shift(-1)\n",
    "dataAG['Close2dayBefore'] = df['Close'].shift(-2)\n",
    "dataAG = dataAG.dropna(0)\n",
    "dataAG.tail()"
   ]
  },
  {
   "cell_type": "code",
   "execution_count": 72,
   "metadata": {},
   "outputs": [],
   "source": [
    "def AR():\n",
    "    N = dataAG.shape[0] # total num days\n",
    "    num_boot = 1# total num bootstrap\n",
    "    T= 250 # start day\n",
    "    window = 200 # training period window\n",
    "    Y =dataAG['OpenTmr'][-(N-(T+1)):].values\n",
    "    X = dataAG[['Close','CloseYest','Close2dayBefore']][-(N-(T+1)):].values\n",
    "    T = X.shape[0]\n",
    "#     print('T is: ')\n",
    "#     print(T)\n",
    "    X = np.column_stack([np.ones((T,1)),X])\n",
    "    N = X.shape\n",
    "    invXX = np.linalg.inv(X.transpose()@X)\n",
    "    \n",
    "    beta_hat = invXX@X.transpose()@Y\n",
    "    #print(beta_hat.shape)\n",
    "    y_hat = X@beta_hat+beta_hat[0]\n",
    "    \n",
    "    'Residuals from OLS'\n",
    "    residuals = Y - y_hat\n",
    "    'Variance of Residuals'\n",
    "    sigma2 = (1/T)*residuals.transpose()@residuals\n",
    "    'standard deviation of Y or residuals'\n",
    "    sigma = np.sqrt(sigma2)\n",
    "    'variance-covariance matrix of beta_hat'\n",
    "    varcov_beta_hat = (sigma2)*invXX\n",
    "    std_beta_hat = np.sqrt(T*np.diag(varcov_beta_hat))\n",
    "\n",
    "    'Calculate R-square'\n",
    "    R_square = 1 - (residuals.transpose()@residuals)/(T*np.var(Y))\n",
    "    adj_R_square = 1-(1-R_square)*(T-1)/(T-N[1])\n",
    "\n",
    "    'Test Each Coefficient: beta_i'\n",
    "    'Null Hypothesis: beta_i = 0'\n",
    "    t_stat = (beta_hat.transpose()-0)/std_beta_hat\n",
    "\n",
    "    p_val = 1-ss.norm.cdf(t_stat)\n",
    "    rmse_ar1 = np.sqrt(np.mean((Y- y_hat)**2))\n",
    "    return y_hat,rmse_ar1"
   ]
  },
  {
   "cell_type": "code",
   "execution_count": 73,
   "metadata": {},
   "outputs": [
    {
     "name": "stdout",
     "output_type": "stream",
     "text": [
      "AR MSE:  6.369567526060644\n",
      "[ 258.30314887  262.48141168  267.14292548 ... 1568.10752162 1526.20500968\n",
      " 1521.83897088]\n",
      "1313\n"
     ]
    }
   ],
   "source": [
    "import scipy.stats as ss\n",
    "import numpy as np\n",
    "import pandas as pd\n",
    "from scipy import stats\n",
    "import seaborn as sns\n",
    "y,rmse=AR()\n",
    "print(\"AR MSE: \",rmse)\n",
    "print(y)\n",
    "print(len(y))"
   ]
  },
  {
   "cell_type": "code",
   "execution_count": 74,
   "metadata": {},
   "outputs": [
    {
     "data": {
      "image/png": "[encoded data removed]",
      "text/plain": [
       "<Figure size 1080x360 with 1 Axes>"
      ]
     },
     "metadata": {
      "needs_background": "light"
     },
     "output_type": "display_data"
    }
   ],
   "source": [
    "plt.figure(figsize=(15, 5));\n",
    "plt.xlim([0, 30])\n",
    "plt.plot(range(30), y[-30:], 'grey', label = 'x_forecast')\n",
    "plt.plot(range(30), dataAG['Close'][-30:], 'r', label = 'predictions')\n",
    "plt.legend(loc='best');"
   ]
  },
  {
   "cell_type": "code",
   "execution_count": null,
   "metadata": {},
   "outputs": [],
   "source": []
  }
 ],
 "metadata": {
  "kernelspec": {
   "display_name": "Python 3",
   "language": "python",
   "name": "python3"
  },
  "language_info": {
   "codemirror_mode": {
    "name": "ipython",
    "version": 3
   },
   "file_extension": ".py",
   "mimetype": "text/x-python",
   "name": "python",
   "nbconvert_exporter": "python",
   "pygments_lexer": "ipython3",
   "version": "3.7.3"
  }
 },
 "nbformat": 4,
 "nbformat_minor": 2
}
